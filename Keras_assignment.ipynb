{
  "nbformat": 4,
  "nbformat_minor": 0,
  "metadata": {
    "colab": {
      "name": "Keras_assignment.ipynb",
      "version": "0.3.2",
      "provenance": [],
      "collapsed_sections": []
    },
    "kernelspec": {
      "display_name": "Python 3",
      "language": "python",
      "name": "python3"
    }
  },
  "cells": [
    {
      "metadata": {
        "id": "hmdnm7M5wz5C",
        "colab_type": "text"
      },
      "cell_type": "markdown",
      "source": [
        "# Classify different data sets"
      ]
    },
    {
      "metadata": {
        "id": "1frvEG9cwz5E",
        "colab_type": "text"
      },
      "cell_type": "markdown",
      "source": [
        "### Basic includes"
      ]
    },
    {
      "metadata": {
        "id": "jXAcRSdBwz5F",
        "colab_type": "code",
        "outputId": "715cdbfe-31b3-4920-803e-c1fe7bc0bd47",
        "colab": {
          "base_uri": "https://localhost:8080/",
          "height": 34
        }
      },
      "cell_type": "code",
      "source": [
        "# Using pandas to load the csv file\n",
        "import pandas as pd\n",
        "import math\n",
        "import numpy as np\n",
        "import matplotlib.pyplot as plt\n",
        "\n",
        "from keras import models \n",
        "from keras import layers \n",
        "from keras import callbacks\n",
        "from keras import optimizers\n",
        "from keras.utils import to_categorical\n",
        "\n",
        "# reuters and fashin mnist data set from keras\n",
        "from keras.datasets import reuters\n",
        "from keras.datasets import fashion_mnist\n",
        "\n",
        "# needed to preprocess text\n",
        "from keras.preprocessing.text import Tokenizer"
      ],
      "execution_count": 0,
      "outputs": [
        {
          "output_type": "stream",
          "text": [
            "Using TensorFlow backend.\n"
          ],
          "name": "stderr"
        }
      ]
    },
    {
      "metadata": {
        "id": "tZI5D-QXwz5I",
        "colab_type": "text"
      },
      "cell_type": "markdown",
      "source": [
        "### Classify the Fashion Mnist\n",
        "\n",
        "---"
      ]
    },
    {
      "metadata": {
        "id": "GtmeBuNXwz5J",
        "colab_type": "code",
        "outputId": "f64ecb06-2ed0-4d89-a2b1-a80856e04905",
        "colab": {
          "base_uri": "https://localhost:8080/",
          "height": 396
        }
      },
      "cell_type": "code",
      "source": [
        "(fashion_train_data, fashion_train_labels), (fashion_test_data, fashion_test_labels) = fashion_mnist.load_data()\n",
        "\n",
        "print(fashion_train_data.shape)\n",
        "\n",
        "test_index = 10\n",
        "\n",
        "plt.title(\"Label: \" + str(fashion_train_labels[test_index]))\n",
        "plt.imshow(fashion_train_data[test_index], cmap=\"gray\")"
      ],
      "execution_count": 0,
      "outputs": [
        {
          "output_type": "stream",
          "text": [
            "(60000, 28, 28)\n"
          ],
          "name": "stdout"
        },
        {
          "output_type": "execute_result",
          "data": {
            "text/plain": [
              "<matplotlib.image.AxesImage at 0x7feb62b98588>"
            ]
          },
          "metadata": {
            "tags": []
          },
          "execution_count": 61
        },
        {
          "output_type": "display_data",
          "data": {
            "image/png": "[encoded data removed]",
            "text/plain": [
              "<Figure size 576x396 with 1 Axes>"
            ]
          },
          "metadata": {
            "tags": []
          }
        }
      ]
    },
    {
      "metadata": {
        "id": "4mbEoFVCwz5N",
        "colab_type": "text"
      },
      "cell_type": "markdown",
      "source": [
        "#### TO DO: Preprocess the data\n",
        "\n",
        "1. Normalize the input data set\n",
        "2. Perform one hot encoding\n",
        "3. Create a train, test, and validation set"
      ]
    },
    {
      "metadata": {
        "id": "vhyOGTGtyTr5",
        "colab_type": "code",
        "colab": {}
      },
      "cell_type": "code",
      "source": [
        "# Normalize the input data set\n",
        "\n",
        "# flatten arrays\n",
        "fashion_train_data = fashion_train_data.reshape((60000, 28 * 28))\n",
        "\n",
        "# turn values from 0-255 to 0-1\n",
        "fashion_train_data = fashion_train_data.astype('float32') / 255 \n",
        "\n",
        "# same starndadization for the test images\n",
        "fashion_test_data = fashion_test_data.reshape((10000, 28 * 28)) \n",
        "fashion_test_data = fashion_test_data.astype('float32') / 255\n",
        "\n",
        "# one hot encoding\n",
        "fashion_train_labels = to_categorical(fashion_train_labels) \n",
        "fashion_test_labels = to_categorical(fashion_test_labels)\n",
        "\n",
        "# create \n",
        "validation_data = fashion_train_data[50000:]\n",
        "validation_labels = fashion_train_labels[50000:]\n",
        "\n",
        "# select the training set values\n",
        "X = fashion_train_data[:50000]\n",
        "y = fashion_train_labels[:50000]"
      ],
      "execution_count": 0,
      "outputs": []
    },
    {
      "metadata": {
        "id": "f0yUfVJgwz5O",
        "colab_type": "text"
      },
      "cell_type": "markdown",
      "source": [
        "#### TO DO: Define and train a network, then plot the accuracy of the training, validation, and testing\n",
        "\n",
        "1. Use a validation set\n",
        "2. Propose and train a network\n",
        "3. Print the history of the training\n",
        "4. Evaluate with a test set"
      ]
    },
    {
      "metadata": {
        "id": "jaGQPOlu2ttN",
        "colab_type": "code",
        "outputId": "ae494fa2-141b-440e-8562-08c8cd177fca",
        "colab": {
          "base_uri": "https://localhost:8080/",
          "height": 1870
        }
      },
      "cell_type": "code",
      "source": [
        "# use validation set\n",
        "\n",
        "# The keras.models.Sequential class is a wrapper for the neural network model that treats \n",
        "# the network as a sequence of layers\n",
        "network = models.Sequential()\n",
        "\n",
        "# create network architecture\n",
        "network.add(layers.Dense(1024, activation='relu', input_shape=(28 * 28,)))\n",
        "network.add(layers.Dropout(0.3))\n",
        "network.add(layers.Dense(256, activation='relu'))\n",
        "network.add(layers.Dropout(0.3))\n",
        "network.add(layers.Dense(64, activation='selu'))\n",
        "network.add(layers.Dropout(0.2))\n",
        "network.add(layers.Dense(32, activation='selu'))\n",
        "network.add(layers.Dropout(0.1))\n",
        "network.add(layers.Dense(10, activation='softmax'))\n",
        "network.summary()\n",
        "\n",
        "early_stop = callbacks.EarlyStopping(monitor=\"val_loss\", patience=2)\n",
        "\n",
        "# network.compile(optimizer='rmsprop', loss='categorical_crossentropy', metrics=['accuracy'])\n",
        "# network.compile(optimizer='sgd', loss='categorical_crossentropy', metrics=['accuracy'])\n",
        "network.compile(optimizer='adam', loss='categorical_crossentropy', metrics=['accuracy'])\n",
        "\n",
        "early_stop = callbacks.EarlyStopping(monitor=\"val_loss\", patience=20)\n",
        "fit_network = network.fit(X, y, batch_size=1024, epochs=40, callbacks = [early_stop], validation_data=(validation_data, validation_labels))\n",
        "\n",
        "evaluated_network = network.evaluate(fashion_test_data, fashion_test_labels)\n",
        "\n",
        "print(\"Fit Network: \", fit_network)\n",
        "print(\"Evaluated Network: \", evaluated_network)"
      ],
      "execution_count": 0,
      "outputs": [
        {
          "output_type": "stream",
          "text": [
            "_________________________________________________________________\n",
            "Layer (type)                 Output Shape              Param #   \n",
            "=================================================================\n",
            "dense_38 (Dense)             (None, 1024)              803840    \n",
            "_________________________________________________________________\n",
            "dropout_9 (Dropout)          (None, 1024)              0         \n",
            "_________________________________________________________________\n",
            "dense_39 (Dense)             (None, 256)               262400    \n",
            "_________________________________________________________________\n",
            "dropout_10 (Dropout)         (None, 256)               0         \n",
            "_________________________________________________________________\n",
            "dense_40 (Dense)             (None, 64)                16448     \n",
            "_________________________________________________________________\n",
            "dropout_11 (Dropout)         (None, 64)                0         \n",
            "_________________________________________________________________\n",
            "dense_41 (Dense)             (None, 32)                2080      \n",
            "_________________________________________________________________\n",
            "dropout_12 (Dropout)         (None, 32)                0         \n",
            "_________________________________________________________________\n",
            "dense_42 (Dense)             (None, 10)                330       \n",
            "=================================================================\n",
            "Total params: 1,085,098\n",
            "Trainable params: 1,085,098\n",
            "Non-trainable params: 0\n",
            "_________________________________________________________________\n",
            "Train on 50000 samples, validate on 10000 samples\n",
            "Epoch 1/40\n",
            "50000/50000 [==============================] - 8s 155us/step - loss: 0.8572 - acc: 0.6952 - val_loss: 0.4708 - val_acc: 0.8308\n",
            "Epoch 2/40\n",
            "50000/50000 [==============================] - 7s 136us/step - loss: 0.5018 - acc: 0.8217 - val_loss: 0.4045 - val_acc: 0.8554\n",
            "Epoch 3/40\n",
            "50000/50000 [==============================] - 7s 136us/step - loss: 0.4343 - acc: 0.8473 - val_loss: 0.3594 - val_acc: 0.8703\n",
            "Epoch 4/40\n",
            "50000/50000 [==============================] - 7s 135us/step - loss: 0.3994 - acc: 0.8581 - val_loss: 0.3514 - val_acc: 0.8739\n",
            "Epoch 5/40\n",
            "50000/50000 [==============================] - 7s 135us/step - loss: 0.3782 - acc: 0.8661 - val_loss: 0.3425 - val_acc: 0.8794\n",
            "Epoch 6/40\n",
            "50000/50000 [==============================] - 7s 135us/step - loss: 0.3521 - acc: 0.8728 - val_loss: 0.3388 - val_acc: 0.8778\n",
            "Epoch 7/40\n",
            "50000/50000 [==============================] - 7s 134us/step - loss: 0.3423 - acc: 0.8759 - val_loss: 0.3263 - val_acc: 0.8829\n",
            "Epoch 8/40\n",
            "50000/50000 [==============================] - 7s 134us/step - loss: 0.3298 - acc: 0.8815 - val_loss: 0.3198 - val_acc: 0.8857\n",
            "Epoch 9/40\n",
            "50000/50000 [==============================] - 7s 135us/step - loss: 0.3220 - acc: 0.8841 - val_loss: 0.3176 - val_acc: 0.8865\n",
            "Epoch 10/40\n",
            "50000/50000 [==============================] - 7s 135us/step - loss: 0.3079 - acc: 0.8890 - val_loss: 0.3191 - val_acc: 0.8877\n",
            "Epoch 11/40\n",
            "50000/50000 [==============================] - 7s 135us/step - loss: 0.3039 - acc: 0.8921 - val_loss: 0.3133 - val_acc: 0.8877\n",
            "Epoch 12/40\n",
            "50000/50000 [==============================] - 7s 135us/step - loss: 0.3017 - acc: 0.8912 - val_loss: 0.3077 - val_acc: 0.8894\n",
            "Epoch 13/40\n",
            "50000/50000 [==============================] - 7s 135us/step - loss: 0.2904 - acc: 0.8932 - val_loss: 0.3111 - val_acc: 0.8910\n",
            "Epoch 14/40\n",
            "50000/50000 [==============================] - 7s 135us/step - loss: 0.2866 - acc: 0.8951 - val_loss: 0.3013 - val_acc: 0.8935\n",
            "Epoch 15/40\n",
            "50000/50000 [==============================] - 7s 136us/step - loss: 0.2771 - acc: 0.8993 - val_loss: 0.3039 - val_acc: 0.8913\n",
            "Epoch 16/40\n",
            "50000/50000 [==============================] - 7s 136us/step - loss: 0.2753 - acc: 0.8997 - val_loss: 0.3024 - val_acc: 0.8903\n",
            "Epoch 17/40\n",
            "50000/50000 [==============================] - 7s 135us/step - loss: 0.2697 - acc: 0.9014 - val_loss: 0.3164 - val_acc: 0.8864\n",
            "Epoch 18/40\n",
            "50000/50000 [==============================] - 7s 135us/step - loss: 0.2684 - acc: 0.9015 - val_loss: 0.3045 - val_acc: 0.8904\n",
            "Epoch 19/40\n",
            "50000/50000 [==============================] - 7s 135us/step - loss: 0.2628 - acc: 0.9048 - val_loss: 0.3023 - val_acc: 0.8917\n",
            "Epoch 20/40\n",
            "50000/50000 [==============================] - 7s 135us/step - loss: 0.2570 - acc: 0.9052 - val_loss: 0.2976 - val_acc: 0.8931\n",
            "Epoch 21/40\n",
            "50000/50000 [==============================] - 7s 135us/step - loss: 0.2502 - acc: 0.9091 - val_loss: 0.3018 - val_acc: 0.8921\n",
            "Epoch 22/40\n",
            "50000/50000 [==============================] - 7s 135us/step - loss: 0.2559 - acc: 0.9061 - val_loss: 0.3058 - val_acc: 0.8941\n",
            "Epoch 23/40\n",
            "50000/50000 [==============================] - 7s 134us/step - loss: 0.2454 - acc: 0.9109 - val_loss: 0.3060 - val_acc: 0.8933\n",
            "Epoch 24/40\n",
            "50000/50000 [==============================] - 7s 134us/step - loss: 0.2436 - acc: 0.9100 - val_loss: 0.3064 - val_acc: 0.8941\n",
            "Epoch 25/40\n",
            "50000/50000 [==============================] - 7s 135us/step - loss: 0.2437 - acc: 0.9101 - val_loss: 0.3055 - val_acc: 0.8958\n",
            "Epoch 26/40\n",
            "50000/50000 [==============================] - 7s 135us/step - loss: 0.2360 - acc: 0.9129 - val_loss: 0.3054 - val_acc: 0.8918\n",
            "Epoch 27/40\n",
            "50000/50000 [==============================] - 7s 142us/step - loss: 0.2331 - acc: 0.9141 - val_loss: 0.3015 - val_acc: 0.8932\n",
            "Epoch 28/40\n",
            "50000/50000 [==============================] - 7s 134us/step - loss: 0.2328 - acc: 0.9147 - val_loss: 0.2998 - val_acc: 0.8943\n",
            "Epoch 29/40\n",
            "50000/50000 [==============================] - 7s 133us/step - loss: 0.2284 - acc: 0.9152 - val_loss: 0.3032 - val_acc: 0.8930\n",
            "Epoch 30/40\n",
            "50000/50000 [==============================] - 7s 133us/step - loss: 0.2233 - acc: 0.9178 - val_loss: 0.2929 - val_acc: 0.8954\n",
            "Epoch 31/40\n",
            "50000/50000 [==============================] - 7s 135us/step - loss: 0.2237 - acc: 0.9179 - val_loss: 0.3115 - val_acc: 0.8936\n",
            "Epoch 32/40\n",
            "50000/50000 [==============================] - 7s 134us/step - loss: 0.2260 - acc: 0.9179 - val_loss: 0.3043 - val_acc: 0.8949\n",
            "Epoch 33/40\n",
            "50000/50000 [==============================] - 7s 134us/step - loss: 0.2220 - acc: 0.9182 - val_loss: 0.3070 - val_acc: 0.8965\n",
            "Epoch 34/40\n",
            "50000/50000 [==============================] - 7s 133us/step - loss: 0.2161 - acc: 0.9207 - val_loss: 0.3113 - val_acc: 0.8934\n",
            "Epoch 35/40\n",
            "50000/50000 [==============================] - 7s 138us/step - loss: 0.2123 - acc: 0.9219 - val_loss: 0.3091 - val_acc: 0.8973\n",
            "Epoch 36/40\n",
            "50000/50000 [==============================] - 7s 140us/step - loss: 0.2189 - acc: 0.9196 - val_loss: 0.3062 - val_acc: 0.8974\n",
            "Epoch 37/40\n",
            "50000/50000 [==============================] - 7s 135us/step - loss: 0.2126 - acc: 0.9223 - val_loss: 0.3082 - val_acc: 0.8958\n",
            "Epoch 38/40\n",
            "50000/50000 [==============================] - 7s 135us/step - loss: 0.2116 - acc: 0.9220 - val_loss: 0.3046 - val_acc: 0.8951\n",
            "Epoch 39/40\n",
            "50000/50000 [==============================] - 7s 135us/step - loss: 0.2039 - acc: 0.9233 - val_loss: 0.3060 - val_acc: 0.8955\n",
            "Epoch 40/40\n",
            "50000/50000 [==============================] - 7s 133us/step - loss: 0.2044 - acc: 0.9250 - val_loss: 0.3109 - val_acc: 0.8948\n",
            "10000/10000 [==============================] - 1s 109us/step\n",
            "Fit Network:  <keras.callbacks.History object at 0x7feb61aaa6d8>\n",
            "Evaluated Network:  [0.32458927879333493, 0.8914]\n"
          ],
          "name": "stdout"
        }
      ]
    },
    {
      "metadata": {
        "id": "07iXJTQsNSME",
        "colab_type": "code",
        "outputId": "db2406be-326a-4df7-fed1-9e1488e21ae6",
        "colab": {
          "base_uri": "https://localhost:8080/",
          "height": 393
        }
      },
      "cell_type": "code",
      "source": [
        "history_dict = fit_network.history\n",
        "print(history_dict.keys())\n",
        "# The history values are split in different lists for ease of plotting\n",
        "acc = history_dict['acc']\n",
        "val_acc = history_dict['val_acc']\n",
        "loss = history_dict['loss']\n",
        "val_loss = history_dict['val_loss']\n",
        "\n",
        "epochs = range(1, len(acc) + 1)\n",
        "\n",
        "# Plot of the validation and training loss\n",
        "\n",
        "# \"bo\" is for \"blue dot\"\n",
        "plt.plot(epochs, loss, 'bo', label='Training loss')\n",
        "# b is for \"solid blue line\"\n",
        "plt.plot(epochs, val_loss, 'b', label='Validation loss')\n",
        "plt.title('Training and validation loss')\n",
        "plt.xlabel('Epochs')\n",
        "plt.ylabel('Loss')\n",
        "plt.legend()\n",
        "\n",
        "plt.show()\n",
        "\n",
        "# Overfitting if: training loss << validation loss\n",
        "\n",
        "# Underfitting if: training loss >> validation loss\n",
        "\n",
        "# Just right if training loss ~ validation loss"
      ],
      "execution_count": 0,
      "outputs": [
        {
          "output_type": "stream",
          "text": [
            "dict_keys(['val_loss', 'val_acc', 'loss', 'acc'])\n"
          ],
          "name": "stdout"
        },
        {
          "output_type": "display_data",
          "data": {
            "image/png": "[encoded data removed]",
            "text/plain": [
              "<Figure size 576x396 with 1 Axes>"
            ]
          },
          "metadata": {
            "tags": []
          }
        }
      ]
    },
    {
      "metadata": {
        "id": "VjPGDG_cwz5P",
        "colab_type": "text"
      },
      "cell_type": "markdown",
      "source": [
        "## Classifying newswires\n",
        "\n",
        "---\n",
        "\n",
        "Build a network to classify Reuters newswires into 46 different mutually-exclusive topics."
      ]
    },
    {
      "metadata": {
        "id": "gZI_zUj0wz5Q",
        "colab_type": "text"
      },
      "cell_type": "markdown",
      "source": [
        "### Load and review the data"
      ]
    },
    {
      "metadata": {
        "id": "GyIIiJsowz5R",
        "colab_type": "code",
        "outputId": "4684cf26-0211-4ec0-ec9d-2016aa9dc26e",
        "colab": {
          "base_uri": "https://localhost:8080/",
          "height": 156
        }
      },
      "cell_type": "code",
      "source": [
        "words_count = 3700\n",
        "(reuters_train_data, reuters_train_labels), (reuters_test_data, reuters_test_labels) = reuters.load_data(num_words=words_count)\n",
        "\n",
        "print(reuters_train_data.shape)\n",
        "print(reuters_train_labels.shape)\n",
        "print(reuters_train_data[0])\n",
        "print(reuters_train_labels[0])\n",
        "\n",
        "print(set(reuters_train_labels))"
      ],
      "execution_count": 0,
      "outputs": [
        {
          "output_type": "stream",
          "text": [
            "Downloading data from https://s3.amazonaws.com/text-datasets/reuters.npz\n",
            "2113536/2110848 [==============================] - 0s 0us/step\n",
            "(8982,)\n",
            "(8982,)\n",
            "[1, 2, 2, 8, 43, 10, 447, 5, 25, 207, 270, 5, 3095, 111, 16, 369, 186, 90, 67, 7, 89, 5, 19, 102, 6, 19, 124, 15, 90, 67, 84, 22, 482, 26, 7, 48, 4, 49, 8, 864, 39, 209, 154, 6, 151, 6, 83, 11, 15, 22, 155, 11, 15, 7, 48, 9, 2, 1005, 504, 6, 258, 6, 272, 11, 15, 22, 134, 44, 11, 15, 16, 8, 197, 1245, 90, 67, 52, 29, 209, 30, 32, 132, 6, 109, 15, 17, 12]\n",
            "3\n",
            "{0, 1, 2, 3, 4, 5, 6, 7, 8, 9, 10, 11, 12, 13, 14, 15, 16, 17, 18, 19, 20, 21, 22, 23, 24, 25, 26, 27, 28, 29, 30, 31, 32, 33, 34, 35, 36, 37, 38, 39, 40, 41, 42, 43, 44, 45}\n"
          ],
          "name": "stdout"
        }
      ]
    },
    {
      "metadata": {
        "id": "VK09uiWHwz5W",
        "colab_type": "text"
      },
      "cell_type": "markdown",
      "source": [
        "Load the word index to decode the train data."
      ]
    },
    {
      "metadata": {
        "id": "D01ZqCqnwz5X",
        "colab_type": "code",
        "outputId": "c13fb8dd-fe10-46fe-a05c-f9a32e4e3cb5",
        "colab": {
          "base_uri": "https://localhost:8080/",
          "height": 54
        }
      },
      "cell_type": "code",
      "source": [
        "word_index = reuters.get_word_index()\n",
        "\n",
        "reverse_index = dict([(value+3, key) for (key, value) in word_index.items()])\n",
        "\n",
        "reverse_index[0] = \"<PAD>\"\n",
        "reverse_index[1] = \"<START>\"\n",
        "reverse_index[2] = \"<UNKNOWN>\"  # unknown\n",
        "reverse_index[3] = \"<UNUSED>\"\n",
        "\n",
        "decoded_review = ' '.join([reverse_index.get(i,'?') for i in reuters_train_data[0]])\n",
        "\n",
        "print(decoded_review)"
      ],
      "execution_count": 0,
      "outputs": [
        {
          "output_type": "stream",
          "text": [
            "<START> <UNKNOWN> <UNKNOWN> said as a result of its december acquisition of space co it expects earnings per share in 1987 of 1 15 to 1 30 dlrs per share up from 70 cts in 1986 the company said pretax net should rise to nine to 10 mln dlrs from six mln dlrs in 1986 and <UNKNOWN> operation revenues to 19 to 22 mln dlrs from 12 5 mln dlrs it said cash flow per share this year should be 2 50 to three dlrs reuter 3\n"
          ],
          "name": "stdout"
        }
      ]
    },
    {
      "metadata": {
        "id": "XpUBKb7Mwz5a",
        "colab_type": "text"
      },
      "cell_type": "markdown",
      "source": [
        "#### TO DO: Preprocess the data\n",
        "\n",
        "1. Normalize the input data set\n",
        "2. Perform one hot encoding\n",
        "3. Create a train, test, and validation set"
      ]
    },
    {
      "metadata": {
        "id": "nNpfEPAySW99",
        "colab_type": "code",
        "outputId": "c9155259-5a31-415e-e24a-742f0e8d8a57",
        "colab": {
          "base_uri": "https://localhost:8080/",
          "height": 119
        }
      },
      "cell_type": "code",
      "source": [
        "# Turning the output into vector mode, each of length 5000\n",
        "tokenizer = Tokenizer(num_words=words_count)\n",
        "reuters_train_data_token = tokenizer.sequences_to_matrix(reuters_train_data, mode='binary')\n",
        "reuters_test_data_token = tokenizer.sequences_to_matrix(reuters_test_data, mode='binary')\n",
        "\n",
        "print(reuters_train_data_token.shape)\n",
        "print(reuters_test_data_token.shape)\n",
        "\n",
        "# One-hot encoding the output\n",
        "reuters_one_hot_train_labels = to_categorical(reuters_train_labels)\n",
        "reuters_one_hot_test_labels = to_categorical(reuters_test_labels)\n",
        "print(reuters_one_hot_train_labels.shape)\n",
        "print(reuters_one_hot_test_labels.shape)\n",
        "\n",
        "# Creating a validation set with the first 10000 reviews\n",
        "reuters_validation_data = reuters_train_data_token[:2000]\n",
        "reuters_validation_labels = reuters_one_hot_train_labels[:2000]\n",
        "\n",
        "# Creating the input set\n",
        "X = reuters_train_data_token[2000:]\n",
        "y = reuters_one_hot_train_labels[2000:]\n",
        "print(X.shape)\n",
        "print(y.shape)"
      ],
      "execution_count": 0,
      "outputs": [
        {
          "output_type": "stream",
          "text": [
            "(8982, 3700)\n",
            "(2246, 3700)\n",
            "(8982, 46)\n",
            "(2246, 46)\n",
            "(6982, 3700)\n",
            "(6982, 46)\n"
          ],
          "name": "stdout"
        }
      ]
    },
    {
      "metadata": {
        "id": "3Ad2JMW1wz5b",
        "colab_type": "text"
      },
      "cell_type": "markdown",
      "source": [
        "#### TO DO: Define and train a network, then plot the accuracy of the training, validation, and testing\n",
        "\n",
        "1. Use a validation set\n",
        "2. Propose and train a network\n",
        "3. Print the history of the training\n",
        "4. Evaluate with a test set"
      ]
    },
    {
      "metadata": {
        "id": "CVj8FSCmTlyd",
        "colab_type": "code",
        "outputId": "f80adfc5-379f-4e4d-bb93-a51257446deb",
        "colab": {
          "base_uri": "https://localhost:8080/",
          "height": 1462
        }
      },
      "cell_type": "code",
      "source": [
        "# use validation set\n",
        "\n",
        "# The keras.models.Sequential class is a wrapper for the neural network model that treats \n",
        "# the network as a sequence of layers\n",
        "network = models.Sequential()\n",
        "\n",
        "# create network architecture\n",
        "network.add(layers.Dense(128, activation='relu', input_shape=(words_count,)))\n",
        "network.add(layers.Dense(64, activation='relu'))\n",
        "network.add(layers.Dense(46, activation='softmax'))\n",
        "network.summary()\n",
        "\n",
        "early_stop = callbacks.EarlyStopping(monitor=\"val_loss\", patience=20)\n",
        "\n",
        "# network.compile(optimizer='rmsprop', loss='categorical_crossentropy', metrics=['accuracy'])\n",
        "# network.compile(optimizer='sgd', loss='categorical_crossentropy', metrics=['accuracy'])\n",
        "\n",
        "adagrad = optimizers.Adagrad(lr=0.0074, epsilon=None, decay=0.0065)\n",
        "network.compile(optimizer=adagrad, loss='categorical_crossentropy', metrics=['accuracy'])\n",
        "\n",
        "fit_network = network.fit(X, y, batch_size=256, epochs=40,\n",
        "          callbacks=[early_stop], validation_data=(reuters_validation_data, reuters_validation_labels))\n",
        "evaluated_network = network.evaluate(reuters_test_data_token, reuters_one_hot_test_labels)\n",
        "\n",
        "print(\"Fit Network: \", fit_network)\n",
        "print(\"Evaluated Network: \", evaluated_network)"
      ],
      "execution_count": 0,
      "outputs": [
        {
          "output_type": "stream",
          "text": [
            "_________________________________________________________________\n",
            "Layer (type)                 Output Shape              Param #   \n",
            "=================================================================\n",
            "dense_30 (Dense)             (None, 128)               473728    \n",
            "_________________________________________________________________\n",
            "dense_31 (Dense)             (None, 64)                8256      \n",
            "_________________________________________________________________\n",
            "dense_32 (Dense)             (None, 46)                2990      \n",
            "=================================================================\n",
            "Total params: 484,974\n",
            "Trainable params: 484,974\n",
            "Non-trainable params: 0\n",
            "_________________________________________________________________\n",
            "Train on 6982 samples, validate on 2000 samples\n",
            "Epoch 1/40\n",
            "6982/6982 [==============================] - 1s 180us/step - loss: 1.6831 - acc: 0.6405 - val_loss: 1.2862 - val_acc: 0.7280\n",
            "Epoch 2/40\n",
            "6982/6982 [==============================] - 1s 95us/step - loss: 0.8867 - acc: 0.8072 - val_loss: 1.0919 - val_acc: 0.7580\n",
            "Epoch 3/40\n",
            "6982/6982 [==============================] - 1s 97us/step - loss: 0.6748 - acc: 0.8552 - val_loss: 1.0241 - val_acc: 0.7765\n",
            "Epoch 4/40\n",
            "6982/6982 [==============================] - 1s 95us/step - loss: 0.5528 - acc: 0.8847 - val_loss: 0.9816 - val_acc: 0.7865\n",
            "Epoch 5/40\n",
            "6982/6982 [==============================] - 1s 95us/step - loss: 0.4753 - acc: 0.9025 - val_loss: 0.9747 - val_acc: 0.7825\n",
            "Epoch 6/40\n",
            "6982/6982 [==============================] - 1s 98us/step - loss: 0.4202 - acc: 0.9138 - val_loss: 0.9519 - val_acc: 0.7915\n",
            "Epoch 7/40\n",
            "6982/6982 [==============================] - 1s 94us/step - loss: 0.3796 - acc: 0.9244 - val_loss: 0.9510 - val_acc: 0.7910\n",
            "Epoch 8/40\n",
            "6982/6982 [==============================] - 1s 98us/step - loss: 0.3480 - acc: 0.9311 - val_loss: 0.9547 - val_acc: 0.7870\n",
            "Epoch 9/40\n",
            "6982/6982 [==============================] - 1s 97us/step - loss: 0.3238 - acc: 0.9334 - val_loss: 0.9454 - val_acc: 0.7955\n",
            "Epoch 10/40\n",
            "6982/6982 [==============================] - 1s 95us/step - loss: 0.3034 - acc: 0.9376 - val_loss: 0.9415 - val_acc: 0.7935\n",
            "Epoch 11/40\n",
            "6982/6982 [==============================] - 1s 95us/step - loss: 0.2872 - acc: 0.9397 - val_loss: 0.9390 - val_acc: 0.7965\n",
            "Epoch 12/40\n",
            "6982/6982 [==============================] - 1s 95us/step - loss: 0.2737 - acc: 0.9421 - val_loss: 0.9404 - val_acc: 0.7955\n",
            "Epoch 13/40\n",
            "6982/6982 [==============================] - 1s 97us/step - loss: 0.2615 - acc: 0.9443 - val_loss: 0.9416 - val_acc: 0.7960\n",
            "Epoch 14/40\n",
            "6982/6982 [==============================] - 1s 95us/step - loss: 0.2514 - acc: 0.9464 - val_loss: 0.9377 - val_acc: 0.7970\n",
            "Epoch 15/40\n",
            "6982/6982 [==============================] - 1s 97us/step - loss: 0.2424 - acc: 0.9479 - val_loss: 0.9426 - val_acc: 0.8000\n",
            "Epoch 16/40\n",
            "6982/6982 [==============================] - 1s 95us/step - loss: 0.2348 - acc: 0.9483 - val_loss: 0.9439 - val_acc: 0.7995\n",
            "Epoch 17/40\n",
            "6982/6982 [==============================] - 1s 96us/step - loss: 0.2279 - acc: 0.9499 - val_loss: 0.9426 - val_acc: 0.8000\n",
            "Epoch 18/40\n",
            "6982/6982 [==============================] - 1s 99us/step - loss: 0.2218 - acc: 0.9512 - val_loss: 0.9418 - val_acc: 0.8005\n",
            "Epoch 19/40\n",
            "6982/6982 [==============================] - 1s 95us/step - loss: 0.2163 - acc: 0.9526 - val_loss: 0.9473 - val_acc: 0.8005\n",
            "Epoch 20/40\n",
            "6982/6982 [==============================] - 1s 96us/step - loss: 0.2113 - acc: 0.9535 - val_loss: 0.9459 - val_acc: 0.8005\n",
            "Epoch 21/40\n",
            "6982/6982 [==============================] - 1s 96us/step - loss: 0.2068 - acc: 0.9550 - val_loss: 0.9472 - val_acc: 0.8010\n",
            "Epoch 22/40\n",
            "6982/6982 [==============================] - 1s 95us/step - loss: 0.2028 - acc: 0.9560 - val_loss: 0.9477 - val_acc: 0.8010\n",
            "Epoch 23/40\n",
            "6982/6982 [==============================] - 1s 96us/step - loss: 0.1990 - acc: 0.9553 - val_loss: 0.9493 - val_acc: 0.8025\n",
            "Epoch 24/40\n",
            "6982/6982 [==============================] - 1s 98us/step - loss: 0.1955 - acc: 0.9566 - val_loss: 0.9492 - val_acc: 0.8005\n",
            "Epoch 25/40\n",
            "6982/6982 [==============================] - 1s 94us/step - loss: 0.1923 - acc: 0.9563 - val_loss: 0.9500 - val_acc: 0.8025\n",
            "Epoch 26/40\n",
            "6982/6982 [==============================] - 1s 95us/step - loss: 0.1895 - acc: 0.9567 - val_loss: 0.9516 - val_acc: 0.8020\n",
            "Epoch 27/40\n",
            "6982/6982 [==============================] - 1s 97us/step - loss: 0.1868 - acc: 0.9575 - val_loss: 0.9526 - val_acc: 0.8020\n",
            "Epoch 28/40\n",
            "6982/6982 [==============================] - 1s 95us/step - loss: 0.1842 - acc: 0.9576 - val_loss: 0.9541 - val_acc: 0.8025\n",
            "Epoch 29/40\n",
            "6982/6982 [==============================] - 1s 96us/step - loss: 0.1818 - acc: 0.9577 - val_loss: 0.9563 - val_acc: 0.8005\n",
            "Epoch 30/40\n",
            "6982/6982 [==============================] - 1s 97us/step - loss: 0.1795 - acc: 0.9583 - val_loss: 0.9557 - val_acc: 0.8000\n",
            "Epoch 31/40\n",
            "6982/6982 [==============================] - 1s 95us/step - loss: 0.1774 - acc: 0.9577 - val_loss: 0.9566 - val_acc: 0.8010\n",
            "Epoch 32/40\n",
            "6982/6982 [==============================] - 1s 96us/step - loss: 0.1754 - acc: 0.9582 - val_loss: 0.9567 - val_acc: 0.8020\n",
            "Epoch 33/40\n",
            "6982/6982 [==============================] - 1s 98us/step - loss: 0.1736 - acc: 0.9582 - val_loss: 0.9586 - val_acc: 0.8015\n",
            "Epoch 34/40\n",
            "6982/6982 [==============================] - 1s 96us/step - loss: 0.1718 - acc: 0.9585 - val_loss: 0.9575 - val_acc: 0.8015\n",
            "2246/2246 [==============================] - 0s 70us/step\n",
            "Fit Network:  <keras.callbacks.History object at 0x7feb65c4b908>\n",
            "Evaluated Network:  [0.964013448699924, 0.7925200356454162]\n"
          ],
          "name": "stdout"
        }
      ]
    },
    {
      "metadata": {
        "id": "8QY5kPjEWMaN",
        "colab_type": "code",
        "outputId": "f0ef9ab0-8ecd-4a92-b432-1218dd26b583",
        "colab": {
          "base_uri": "https://localhost:8080/",
          "height": 393
        }
      },
      "cell_type": "code",
      "source": [
        "history_dict = fit_network.history\n",
        "print(history_dict.keys())\n",
        "# The history values are split in different lists for ease of plotting\n",
        "acc = history_dict['acc']\n",
        "val_acc = history_dict['val_acc']\n",
        "loss = history_dict['loss']\n",
        "val_loss = history_dict['val_loss']\n",
        "\n",
        "epochs = range(1, len(acc) + 1)\n",
        "\n",
        "# Plot of the validation and training loss\n",
        "\n",
        "# \"bo\" is for \"blue dot\"\n",
        "plt.plot(epochs, loss, 'bo', label='Training loss')\n",
        "# b is for \"solid blue line\"\n",
        "plt.plot(epochs, val_loss, 'b', label='Validation loss')\n",
        "plt.title('Training and validation loss')\n",
        "plt.xlabel('Epochs')\n",
        "plt.ylabel('Loss')\n",
        "plt.legend()\n",
        "\n",
        "plt.show()\n",
        "\n",
        "# Overfitting if: training loss << validation loss\n",
        "\n",
        "# Underfitting if: training loss >> validation loss\n",
        "\n",
        "# Just right if training loss ~ validation loss"
      ],
      "execution_count": 0,
      "outputs": [
        {
          "output_type": "stream",
          "text": [
            "dict_keys(['val_loss', 'val_acc', 'loss', 'acc'])\n"
          ],
          "name": "stdout"
        },
        {
          "output_type": "display_data",
          "data": {
            "image/png": "[encoded data removed]",
            "text/plain": [
              "<Figure size 576x396 with 1 Axes>"
            ]
          },
          "metadata": {
            "tags": []
          }
        }
      ]
    },
    {
      "metadata": {
        "id": "6HXPmg1kwz5c",
        "colab_type": "text"
      },
      "cell_type": "markdown",
      "source": [
        "## Predicting Student Admissions\n",
        "\n",
        "---\n",
        "\n",
        "Predict student admissions based on three pieces of data:\n",
        "\n",
        "- GRE Scores\n",
        "- GPA Scores\n",
        "- Class rank"
      ]
    },
    {
      "metadata": {
        "id": "wlogjwmTwz5e",
        "colab_type": "text"
      },
      "cell_type": "markdown",
      "source": [
        "### Load and visualize the data"
      ]
    },
    {
      "metadata": {
        "id": "HmOgcXrAwz5g",
        "colab_type": "code",
        "outputId": "5c221c28-a0b6-413a-9e91-6bd56294a2d4",
        "colab": {
          "base_uri": "https://localhost:8080/",
          "height": 1105
        }
      },
      "cell_type": "code",
      "source": [
        "student_data = pd.read_csv(\"./student_data.csv\")\n",
        "print(student_data)"
      ],
      "execution_count": 0,
      "outputs": [
        {
          "output_type": "stream",
          "text": [
            "     admit    gre   gpa  rank\n",
            "0        0  380.0  3.61   3.0\n",
            "1        1  660.0  3.67   3.0\n",
            "2        1  800.0  4.00   1.0\n",
            "3        1  640.0  3.19   4.0\n",
            "4        0  520.0  2.93   4.0\n",
            "5        1  760.0  3.00   2.0\n",
            "6        1  560.0  2.98   1.0\n",
            "7        0  400.0  3.08   2.0\n",
            "8        1  540.0  3.39   3.0\n",
            "9        0  700.0  3.92   2.0\n",
            "10       0  800.0  4.00   4.0\n",
            "11       0  440.0  3.22   1.0\n",
            "12       1  760.0  4.00   1.0\n",
            "13       0  700.0  3.08   2.0\n",
            "14       1  700.0  4.00   1.0\n",
            "15       0  480.0  3.44   3.0\n",
            "16       0  780.0  3.87   4.0\n",
            "17       0  360.0  2.56   3.0\n",
            "18       0  800.0  3.75   2.0\n",
            "19       1  540.0  3.81   1.0\n",
            "20       0  500.0  3.17   3.0\n",
            "21       1  660.0  3.63   2.0\n",
            "22       0  600.0  2.82   4.0\n",
            "23       0  680.0  3.19   4.0\n",
            "24       1  760.0  3.35   2.0\n",
            "25       1  800.0  3.66   1.0\n",
            "26       1  620.0  3.61   1.0\n",
            "27       1  520.0  3.74   4.0\n",
            "28       1  780.0  3.22   2.0\n",
            "29       0  520.0  3.29   1.0\n",
            "..     ...    ...   ...   ...\n",
            "370      1  540.0  3.77   2.0\n",
            "371      1  680.0  3.76   3.0\n",
            "372      1  680.0  2.42   1.0\n",
            "373      1  620.0  3.37   1.0\n",
            "374      0  560.0  3.78   2.0\n",
            "375      0  560.0  3.49   4.0\n",
            "376      0  620.0  3.63   2.0\n",
            "377      1  800.0  4.00   2.0\n",
            "378      0  640.0  3.12   3.0\n",
            "379      0  540.0  2.70   2.0\n",
            "380      0  700.0  3.65   2.0\n",
            "381      1  540.0  3.49   2.0\n",
            "382      0  540.0  3.51   2.0\n",
            "383      0  660.0  4.00   1.0\n",
            "384      1  480.0  2.62   2.0\n",
            "385      0  420.0  3.02   1.0\n",
            "386      1  740.0  3.86   2.0\n",
            "387      0  580.0  3.36   2.0\n",
            "388      0  640.0  3.17   2.0\n",
            "389      0  640.0  3.51   2.0\n",
            "390      1  800.0  3.05   2.0\n",
            "391      1  660.0  3.88   2.0\n",
            "392      1  600.0  3.38   3.0\n",
            "393      1  620.0  3.75   2.0\n",
            "394      1  460.0  3.99   3.0\n",
            "395      0  620.0  4.00   2.0\n",
            "396      0  560.0  3.04   3.0\n",
            "397      0  460.0  2.63   2.0\n",
            "398      0  700.0  3.65   2.0\n",
            "399      0  600.0  3.89   3.0\n",
            "\n",
            "[400 rows x 4 columns]\n"
          ],
          "name": "stdout"
        }
      ]
    },
    {
      "metadata": {
        "id": "Y7J11sF8wz5k",
        "colab_type": "text"
      },
      "cell_type": "markdown",
      "source": [
        "Plot of the GRE and the GPA from the data."
      ]
    },
    {
      "metadata": {
        "id": "qhhWFqbSwz5l",
        "colab_type": "code",
        "outputId": "c1e417db-a216-4f4f-9a04-f0b12bcee183",
        "colab": {
          "base_uri": "https://localhost:8080/",
          "height": 361
        }
      },
      "cell_type": "code",
      "source": [
        "X = np.array(student_data[[\"gre\",\"gpa\"]])\n",
        "y = np.array(student_data[\"admit\"])\n",
        "admitted = X[np.argwhere(y==1)]\n",
        "rejected = X[np.argwhere(y==0)]\n",
        "plt.scatter([s[0][0] for s in rejected], [s[0][1] for s in rejected], s = 25, color = 'red', edgecolor = 'k')\n",
        "plt.scatter([s[0][0] for s in admitted], [s[0][1] for s in admitted], s = 25, color = 'cyan', edgecolor = 'k')\n",
        "plt.xlabel('Test (GRE)')\n",
        "plt.ylabel('Grades (GPA)')\n",
        "\n",
        "plt.show()"
      ],
      "execution_count": 0,
      "outputs": [
        {
          "output_type": "display_data",
          "data": {
            "image/png": "[encoded data removed]",
            "text/plain": [
              "<Figure size 576x396 with 1 Axes>"
            ]
          },
          "metadata": {
            "tags": []
          }
        }
      ]
    },
    {
      "metadata": {
        "id": "36ypOSu7wz5n",
        "colab_type": "text"
      },
      "cell_type": "markdown",
      "source": [
        "Plot of the data by class rank."
      ]
    },
    {
      "metadata": {
        "id": "0K_C9Pxhwz5o",
        "colab_type": "code",
        "outputId": "771d078d-09e7-4280-c7fa-1869ace0b482",
        "colab": {
          "base_uri": "https://localhost:8080/",
          "height": 640
        }
      },
      "cell_type": "code",
      "source": [
        "f, plots = plt.subplots(2, 2, figsize=(20,10))\n",
        "plots = [plot for sublist in plots for plot in sublist]\n",
        "\n",
        "for idx, plot in enumerate(plots):\n",
        "    data_rank = student_data[student_data[\"rank\"]==idx+1]\n",
        "    plot.set_title(\"Rank \" + str(idx+1))\n",
        "    X = np.array(data_rank[[\"gre\",\"gpa\"]])\n",
        "    y = np.array(data_rank[\"admit\"])\n",
        "    admitted = X[np.argwhere(y==1)]\n",
        "    rejected = X[np.argwhere(y==0)]\n",
        "    plot.scatter([s[0][0] for s in rejected], [s[0][1] for s in rejected], s = 25, color = 'red', edgecolor = 'k')\n",
        "    plot.scatter([s[0][0] for s in admitted], [s[0][1] for s in admitted], s = 25, color = 'cyan', edgecolor = 'k')\n",
        "    plot.set_xlabel('Test (GRE)')\n",
        "    plot.set_ylabel('Grades (GPA)')\n",
        "    "
      ],
      "execution_count": 0,
      "outputs": [
        {
          "output_type": "display_data",
          "data": {
            "image/png": "[encoded data removed]",
            "text/plain": [
              "<Figure size 1440x720 with 4 Axes>"
            ]
          },
          "metadata": {
            "tags": []
          }
        }
      ]
    },
    {
      "metadata": {
        "id": "YeXKcmkXwz5s",
        "colab_type": "text"
      },
      "cell_type": "markdown",
      "source": [
        "#### TO DO: Preprocess the data\n",
        "\n",
        "1. Normalize the input data set\n",
        "2. Perform one hot encoding\n",
        "3. Create a train, test, and validation set"
      ]
    },
    {
      "metadata": {
        "id": "9-h9u9FQ2XfO",
        "colab_type": "code",
        "colab": {}
      },
      "cell_type": "code",
      "source": [
        "def standardize(vector):\n",
        "  mean = np.mean(vector)\n",
        "  sigma = np.std(vector)\n",
        "  for i in range(0, vector.size):\n",
        "    vector[i] = (int(vector[i]) - mean)/sigma\n",
        "    "
      ],
      "execution_count": 0,
      "outputs": []
    },
    {
      "metadata": {
        "id": "3EqzE8xI4kov",
        "colab_type": "code",
        "colab": {}
      },
      "cell_type": "code",
      "source": [
        "def cleanData(dataset):\n",
        "  index = 0\n",
        "  limit = dataset.shape[0]\n",
        "  while(index < limit):\n",
        "    flag = 0\n",
        "    for j in range(0, dataset.shape[1]):\n",
        "      if math.isnan(dataset[index][j]):\n",
        "        flag = 1\n",
        "    if flag:\n",
        "      dataset = np.delete(dataset, index, axis=0)\n",
        "      index = index - 1\n",
        "      limit = limit - 1\n",
        "    index = index + 1\n",
        "  return dataset"
      ],
      "execution_count": 0,
      "outputs": []
    },
    {
      "metadata": {
        "id": "EdCNvNCdsds4",
        "colab_type": "code",
        "colab": {}
      },
      "cell_type": "code",
      "source": [
        "# Normalize the input data set\n",
        "# Creating array\n",
        "student_data_array = np.array(student_data)\n",
        "student_data_array[np.isnan(student_data_array)] = 0\n",
        "np.random.shuffle(student_data_array)\n",
        "\n",
        "# Get read of observations without data\n",
        "# student_data_array_clean = cleanData(student_data_array)\n",
        "\n",
        "# Get GRE and GPA vectors\n",
        "X_gre = student_data_array[:,1]\n",
        "X_gpa = student_data_array[:,2]\n",
        "\n",
        "# Normalize the input data set\n",
        "standardize(X_gre)\n",
        "standardize(X_gpa)\n",
        "\n",
        "# Perform one hot encoding\n",
        "# Input\n",
        "rank = student_data_array[:,3]\n",
        "rank = rank-1\n",
        "rank_encoded = to_categorical(rank)\n",
        "\n",
        "# Output\n",
        "y_admit = student_data_array[:,0]\n",
        "y_admit_encoded = to_categorical(y_admit)\n",
        "\n",
        "dataset = np.matrix([X_gre[:], X_gpa[:]]).T\n",
        "dataset = np.concatenate((dataset, rank_encoded), axis=1)\n",
        "\n",
        "observations = 200\n",
        "# Training Set\n",
        "X = dataset[:observations]\n",
        "y = y_admit_encoded[:observations]\n",
        "\n",
        "# Test set\n",
        "student_test_data = dataset[observations:observations+100]\n",
        "student_test_labels = y_admit_encoded[observations:observations+100]\n",
        "\n",
        "# Validation set\n",
        "student_validation_data = dataset[observations+100:]\n",
        "student_validation_labels = y_admit_encoded[observations+100:]\n",
        "\n",
        "\n",
        "\n",
        "\n",
        "\n",
        "\n",
        "\n"
      ],
      "execution_count": 0,
      "outputs": []
    },
    {
      "metadata": {
        "id": "4dNWAGZiHvhO",
        "colab_type": "code",
        "colab": {}
      },
      "cell_type": "code",
      "source": [
        ""
      ],
      "execution_count": 0,
      "outputs": []
    },
    {
      "metadata": {
        "id": "GlI9ryJAwz5t",
        "colab_type": "text"
      },
      "cell_type": "markdown",
      "source": [
        "#### TO DO: Define and train a network, then plot the accuracy of the training, validation, and testing\n",
        "\n",
        "1. Use a validation set\n",
        "2. Propose and train a network\n",
        "3. Print the history of the training\n",
        "4. Evaluate with a test set"
      ]
    },
    {
      "metadata": {
        "id": "1GsgO2SosdYx",
        "colab_type": "code",
        "outputId": "78b21d26-46b0-4f50-aee5-92502a698eeb",
        "colab": {
          "base_uri": "https://localhost:8080/",
          "height": 1700
        }
      },
      "cell_type": "code",
      "source": [
        "# use validation set\n",
        "\n",
        "# The keras.models.Sequential class is a wrapper for the neural network model that treats \n",
        "# the network as a sequence of layers\n",
        "network = models.Sequential()\n",
        "\n",
        "# create network architecture\n",
        "\n",
        "network.add(layers.Dense(128, activation='relu', input_shape=(6,)))\n",
        "network.add(layers.Dense(64, activation='relu'))\n",
        "network.add(layers.Dense(32, activation='relu'))\n",
        "network.add(layers.Dense(2, activation='softmax'))\n",
        "network.summary()\n",
        "\n",
        "early_stop = callbacks.EarlyStopping(monitor=\"val_loss\", patience=15)\n",
        "\n",
        "# network.compile(optimizer='rmsprop', loss='categorical_crossentropy', metrics=['accuracy'])\n",
        "# network.compile(optimizer='sgd', loss='categorical_crossentropy', metrics=['accuracy'])\n",
        "\n",
        "adadelta = optimizers.Adadelta(lr=.7, rho=0.30, epsilon=None, decay=0.006)\n",
        "\n",
        "\n",
        "network.compile(optimizer=adadelta, loss='mean_squared_error', metrics=['accuracy'])\n",
        "\n",
        "#network.add(layers.UpSampling1D(size=1))\n",
        "\n",
        "\n",
        "fit_network = network.fit(X, y, batch_size=256, epochs=40,\n",
        "          callbacks=[early_stop], validation_data=(student_validation_data, student_validation_labels))\n",
        "evaluated_network = network.evaluate(student_test_data, student_test_labels)\n",
        "\n",
        "print(\"Fit Network: \", fit_network)\n",
        "print(\"Evaluated Network: \", evaluated_network)\n",
        "\n"
      ],
      "execution_count": 163,
      "outputs": [
        {
          "output_type": "stream",
          "text": [
            "_________________________________________________________________\n",
            "Layer (type)                 Output Shape              Param #   \n",
            "=================================================================\n",
            "dense_279 (Dense)            (None, 128)               896       \n",
            "_________________________________________________________________\n",
            "dense_280 (Dense)            (None, 64)                8256      \n",
            "_________________________________________________________________\n",
            "dense_281 (Dense)            (None, 32)                2080      \n",
            "_________________________________________________________________\n",
            "dense_282 (Dense)            (None, 2)                 66        \n",
            "=================================================================\n",
            "Total params: 11,298\n",
            "Trainable params: 11,298\n",
            "Non-trainable params: 0\n",
            "_________________________________________________________________\n",
            "Train on 200 samples, validate on 100 samples\n",
            "Epoch 1/40\n",
            "200/200 [==============================] - 6s 28ms/step - loss: 0.2710 - acc: 0.3500 - val_loss: 0.2822 - val_acc: 0.3000\n",
            "Epoch 2/40\n",
            "200/200 [==============================] - 0s 62us/step - loss: 0.2685 - acc: 0.3500 - val_loss: 0.2786 - val_acc: 0.3000\n",
            "Epoch 3/40\n",
            "200/200 [==============================] - 0s 45us/step - loss: 0.2657 - acc: 0.3500 - val_loss: 0.2748 - val_acc: 0.3200\n",
            "Epoch 4/40\n",
            "200/200 [==============================] - 0s 45us/step - loss: 0.2626 - acc: 0.3550 - val_loss: 0.2708 - val_acc: 0.3500\n",
            "Epoch 5/40\n",
            "200/200 [==============================] - 0s 40us/step - loss: 0.2593 - acc: 0.4150 - val_loss: 0.2666 - val_acc: 0.3700\n",
            "Epoch 6/40\n",
            "200/200 [==============================] - 0s 38us/step - loss: 0.2561 - acc: 0.4750 - val_loss: 0.2624 - val_acc: 0.3800\n",
            "Epoch 7/40\n",
            "200/200 [==============================] - 0s 37us/step - loss: 0.2528 - acc: 0.4750 - val_loss: 0.2581 - val_acc: 0.3900\n",
            "Epoch 8/40\n",
            "200/200 [==============================] - 0s 38us/step - loss: 0.2495 - acc: 0.4750 - val_loss: 0.2538 - val_acc: 0.4600\n",
            "Epoch 9/40\n",
            "200/200 [==============================] - 0s 41us/step - loss: 0.2462 - acc: 0.5350 - val_loss: 0.2496 - val_acc: 0.5000\n",
            "Epoch 10/40\n",
            "200/200 [==============================] - 0s 45us/step - loss: 0.2431 - acc: 0.6150 - val_loss: 0.2456 - val_acc: 0.5900\n",
            "Epoch 11/40\n",
            "200/200 [==============================] - 0s 46us/step - loss: 0.2403 - acc: 0.6650 - val_loss: 0.2419 - val_acc: 0.6600\n",
            "Epoch 12/40\n",
            "200/200 [==============================] - 0s 50us/step - loss: 0.2376 - acc: 0.6850 - val_loss: 0.2384 - val_acc: 0.6700\n",
            "Epoch 13/40\n",
            "200/200 [==============================] - 0s 39us/step - loss: 0.2352 - acc: 0.6700 - val_loss: 0.2352 - val_acc: 0.6700\n",
            "Epoch 14/40\n",
            "200/200 [==============================] - 0s 43us/step - loss: 0.2330 - acc: 0.6650 - val_loss: 0.2323 - val_acc: 0.6700\n",
            "Epoch 15/40\n",
            "200/200 [==============================] - 0s 43us/step - loss: 0.2311 - acc: 0.6650 - val_loss: 0.2296 - val_acc: 0.6800\n",
            "Epoch 16/40\n",
            "200/200 [==============================] - 0s 42us/step - loss: 0.2293 - acc: 0.6650 - val_loss: 0.2271 - val_acc: 0.6800\n",
            "Epoch 17/40\n",
            "200/200 [==============================] - 0s 41us/step - loss: 0.2276 - acc: 0.6650 - val_loss: 0.2248 - val_acc: 0.6800\n",
            "Epoch 18/40\n",
            "200/200 [==============================] - 0s 43us/step - loss: 0.2261 - acc: 0.6650 - val_loss: 0.2227 - val_acc: 0.6800\n",
            "Epoch 19/40\n",
            "200/200 [==============================] - 0s 34us/step - loss: 0.2246 - acc: 0.6650 - val_loss: 0.2208 - val_acc: 0.6800\n",
            "Epoch 20/40\n",
            "200/200 [==============================] - 0s 41us/step - loss: 0.2232 - acc: 0.6650 - val_loss: 0.2191 - val_acc: 0.6800\n",
            "Epoch 21/40\n",
            "200/200 [==============================] - 0s 42us/step - loss: 0.2219 - acc: 0.6650 - val_loss: 0.2175 - val_acc: 0.6800\n",
            "Epoch 22/40\n",
            "200/200 [==============================] - 0s 43us/step - loss: 0.2206 - acc: 0.6700 - val_loss: 0.2161 - val_acc: 0.6800\n",
            "Epoch 23/40\n",
            "200/200 [==============================] - 0s 67us/step - loss: 0.2194 - acc: 0.6750 - val_loss: 0.2148 - val_acc: 0.6900\n",
            "Epoch 24/40\n",
            "200/200 [==============================] - 0s 42us/step - loss: 0.2182 - acc: 0.6700 - val_loss: 0.2136 - val_acc: 0.6900\n",
            "Epoch 25/40\n",
            "200/200 [==============================] - 0s 49us/step - loss: 0.2171 - acc: 0.6700 - val_loss: 0.2126 - val_acc: 0.6900\n",
            "Epoch 26/40\n",
            "200/200 [==============================] - 0s 43us/step - loss: 0.2161 - acc: 0.6700 - val_loss: 0.2117 - val_acc: 0.6900\n",
            "Epoch 27/40\n",
            "200/200 [==============================] - 0s 41us/step - loss: 0.2151 - acc: 0.6750 - val_loss: 0.2109 - val_acc: 0.6900\n",
            "Epoch 28/40\n",
            "200/200 [==============================] - 0s 57us/step - loss: 0.2141 - acc: 0.6750 - val_loss: 0.2101 - val_acc: 0.6900\n",
            "Epoch 29/40\n",
            "200/200 [==============================] - 0s 46us/step - loss: 0.2133 - acc: 0.6800 - val_loss: 0.2094 - val_acc: 0.6900\n",
            "Epoch 30/40\n",
            "200/200 [==============================] - 0s 50us/step - loss: 0.2124 - acc: 0.6800 - val_loss: 0.2087 - val_acc: 0.6800\n",
            "Epoch 31/40\n",
            "200/200 [==============================] - 0s 46us/step - loss: 0.2116 - acc: 0.6850 - val_loss: 0.2081 - val_acc: 0.6800\n",
            "Epoch 32/40\n",
            "200/200 [==============================] - 0s 64us/step - loss: 0.2108 - acc: 0.6900 - val_loss: 0.2077 - val_acc: 0.6800\n",
            "Epoch 33/40\n",
            "200/200 [==============================] - 0s 55us/step - loss: 0.2101 - acc: 0.6900 - val_loss: 0.2072 - val_acc: 0.6800\n",
            "Epoch 34/40\n",
            "200/200 [==============================] - 0s 44us/step - loss: 0.2094 - acc: 0.6900 - val_loss: 0.2068 - val_acc: 0.6800\n",
            "Epoch 35/40\n",
            "200/200 [==============================] - 0s 56us/step - loss: 0.2087 - acc: 0.6900 - val_loss: 0.2065 - val_acc: 0.6800\n",
            "Epoch 36/40\n",
            "200/200 [==============================] - 0s 52us/step - loss: 0.2081 - acc: 0.6900 - val_loss: 0.2062 - val_acc: 0.6900\n",
            "Epoch 37/40\n",
            "200/200 [==============================] - 0s 55us/step - loss: 0.2075 - acc: 0.6900 - val_loss: 0.2059 - val_acc: 0.6900\n",
            "Epoch 38/40\n",
            "200/200 [==============================] - 0s 55us/step - loss: 0.2069 - acc: 0.6900 - val_loss: 0.2057 - val_acc: 0.6900\n",
            "Epoch 39/40\n",
            "200/200 [==============================] - 0s 44us/step - loss: 0.2064 - acc: 0.6900 - val_loss: 0.2056 - val_acc: 0.6800\n",
            "Epoch 40/40\n",
            "200/200 [==============================] - 0s 43us/step - loss: 0.2058 - acc: 0.6900 - val_loss: 0.2054 - val_acc: 0.6800\n",
            "100/100 [==============================] - 0s 140us/step\n",
            "Fit Network:  <keras.callbacks.History object at 0x7f066129ee80>\n",
            "Evaluated Network:  [0.1966878056526184, 0.76]\n"
          ],
          "name": "stdout"
        }
      ]
    },
    {
      "metadata": {
        "id": "gr7jYGBrdY0y",
        "colab_type": "code",
        "outputId": "374499e4-27dd-441c-ecdb-40260f5bd82e",
        "colab": {
          "base_uri": "https://localhost:8080/",
          "height": 393
        }
      },
      "cell_type": "code",
      "source": [
        "history_dict = fit_network.history\n",
        "print(history_dict.keys())\n",
        "# The history values are split in different lists for ease of plotting\n",
        "acc = history_dict['acc']\n",
        "val_acc = history_dict['val_acc']\n",
        "loss = history_dict['loss']\n",
        "val_loss = history_dict['val_loss']\n",
        "\n",
        "epochs = range(1, len(acc) + 1)\n",
        "\n",
        "# Plot of the validation and training loss\n",
        "\n",
        "# \"bo\" is for \"blue dot\"\n",
        "plt.plot(epochs, loss, 'bo', label='Training loss')\n",
        "# b is for \"solid blue line\"\n",
        "plt.plot(epochs, val_loss, 'b', label='Validation loss')\n",
        "plt.title('Training and validation loss')\n",
        "plt.xlabel('Epochs')\n",
        "plt.ylabel('Loss')\n",
        "plt.legend()\n",
        "\n",
        "plt.show()\n",
        "\n",
        "# Overfitting if: training loss << validation loss\n",
        "\n",
        "# Underfitting if: training loss >> validation loss\n",
        "\n",
        "# Just right if training loss ~ validation loss"
      ],
      "execution_count": 164,
      "outputs": [
        {
          "output_type": "stream",
          "text": [
            "dict_keys(['val_loss', 'val_acc', 'loss', 'acc'])\n"
          ],
          "name": "stdout"
        },
        {
          "output_type": "display_data",
          "data": {
            "image/png": "[encoded data removed]",
            "text/plain": [
              "<Figure size 576x396 with 1 Axes>"
            ]
          },
          "metadata": {
            "tags": []
          }
        }
      ]
    },
    {
      "metadata": {
        "id": "i-D2LcvNu78H",
        "colab_type": "code",
        "colab": {}
      },
      "cell_type": "code",
      "source": [
        ""
      ],
      "execution_count": 0,
      "outputs": []
    }
  ]
}